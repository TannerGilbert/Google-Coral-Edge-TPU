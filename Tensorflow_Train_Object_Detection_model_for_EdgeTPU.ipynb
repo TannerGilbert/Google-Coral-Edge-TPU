{
  "nbformat": 4,
  "nbformat_minor": 0,
  "metadata": {
    "colab": {
      "name": "Tensorflow Train Object Detection model for EdgeTPU.ipynb",
      "provenance": [],
      "collapsed_sections": [
        "license"
      ],
      "toc_visible": true
    },
    "kernelspec": {
      "display_name": "Python 3",
      "name": "python3"
    }
  },
  "cells": [
    {
      "cell_type": "markdown",
      "metadata": {
        "id": "hRTa3Ee15WsJ"
      },
      "source": [
        "# Retrain a detection model for Edge TPU with quant-aware training"
      ]
    },
    {
      "cell_type": "markdown",
      "metadata": {
        "id": "GTCYQg_be8C0"
      },
      "source": [
        "## Import TensorFlow"
      ]
    },
    {
      "cell_type": "code",
      "metadata": {
        "id": "kxAceTA36NKQ",
        "colab": {
          "base_uri": "https://localhost:8080/"
        },
        "outputId": "59c7a822-b877-4a7b-d0af-25a80d813f4d"
      },
      "source": [
        "%tensorflow_version 1.x"
      ],
      "execution_count": null,
      "outputs": []
    },
    {
      "cell_type": "code",
      "metadata": {
        "id": "5Ebgg83X9oTh",
        "colab": {
          "base_uri": "https://localhost:8080/"
        },
        "outputId": "d21e00f9-db26-425a-e3d9-4fcc4d5691e3"
      },
      "source": [
        "import tensorflow as tf\n",
        "print(tf.__version__)"
      ],
      "execution_count": null,
      "outputs": []
    },
    {
      "cell_type": "markdown",
      "metadata": {
        "id": "gpTmoIxuranU"
      },
      "source": [
        "## Clone the model and training repos"
      ]
    },
    {
      "cell_type": "code",
      "metadata": {
        "id": "r_zobAPP8J9Y",
        "colab": {
          "base_uri": "https://localhost:8080/"
        },
        "outputId": "6a4e11fe-3912-4762-a329-8d52bcc998b0"
      },
      "source": [
        "! git clone https://github.com/tensorflow/models.git"
      ],
      "execution_count": null,
      "outputs": []
    },
    {
      "cell_type": "code",
      "metadata": {
        "id": "U4Yftz8HsilF",
        "colab": {
          "base_uri": "https://localhost:8080/"
        },
        "outputId": "3f9ab955-7575-47dc-ed5e-3531183aa49c"
      },
      "source": [
        "! cd models && git checkout f788046ca876a8820e05b0b48c1fc2e16b0955bc"
      ],
      "execution_count": null,
      "outputs": []
    },
    {
      "cell_type": "markdown",
      "metadata": {
        "id": "0Iv-kpe2Xe69"
      },
      "source": [
        "## Import dependencies"
      ]
    },
    {
      "cell_type": "markdown",
      "metadata": {
        "id": "ImucOu0qgMv_"
      },
      "source": [
        "For details, see https://github.com/tensorflow/models/blob/master/research/object_detection/g3doc/installation.md"
      ]
    },
    {
      "cell_type": "code",
      "metadata": {
        "id": "LJEhkUxlfhh4",
        "colab": {
          "base_uri": "https://localhost:8080/"
        },
        "outputId": "51172ccd-729b-4e9c-eefb-0639f0b550cb"
      },
      "source": [
        "! apt-get install -y python python-tk\n",
        "! pip install Cython contextlib2 pillow lxml jupyter matplotlib"
      ],
      "execution_count": null,
      "outputs": []
    },
    {
      "cell_type": "code",
      "metadata": {
        "id": "45oRT7h6XhgP",
        "colab": {
          "base_uri": "https://localhost:8080/"
        },
        "outputId": "49628c1b-76de-481d-adbf-df6bde300a90"
      },
      "source": [
        "# Get protoc 3.0.0, rather than the old version already in the container\n",
        "! wget https://www.github.com/google/protobuf/releases/download/v3.0.0/protoc-3.0.0-linux-x86_64.zip\n",
        "! unzip protoc-3.0.0-linux-x86_64.zip -d proto3\n",
        "! mkdir -p local/bin && mkdir -p local/include\n",
        "! mv proto3/bin/* local/bin\n",
        "! mv proto3/include/* local/include\n",
        "! rm -rf proto3 protoc-3.0.0-linux-x86_64.zip"
      ],
      "execution_count": null,
      "outputs": []
    },
    {
      "cell_type": "code",
      "metadata": {
        "id": "snUGUfruaTFa",
        "colab": {
          "base_uri": "https://localhost:8080/"
        },
        "outputId": "5cadd5e2-c7da-42da-ff12-36c74714076a"
      },
      "source": [
        "# Install pycocoapi\n",
        "! git clone --depth 1 https://github.com/cocodataset/cocoapi.git\n",
        "! (cd cocoapi/PythonAPI && make -j8)\n",
        "! cp -r cocoapi/PythonAPI/pycocotools/ models/research/\n",
        "! rm -rf cocoapi"
      ],
      "execution_count": null,
      "outputs": []
    },
    {
      "cell_type": "code",
      "metadata": {
        "id": "Yz0nN7eVeXo6",
        "colab": {
          "base_uri": "https://localhost:8080/"
        },
        "outputId": "3fc9875e-9a47-4e22-a13f-442c3d103d70"
      },
      "source": [
        "# Run protoc on the object detection repo (generate .py files from .proto)\n",
        "% cd models/research/\n",
        "! ../../local/bin/protoc object_detection/protos/*.proto --python_out=."
      ],
      "execution_count": null,
      "outputs": []
    },
    {
      "cell_type": "code",
      "metadata": {
        "id": "53D-U0_gg8VB"
      },
      "source": [
        "import os\n",
        "os.environ['PYTHONPATH'] += \":/content/models/research:/content/models/research/slim\""
      ],
      "execution_count": null,
      "outputs": []
    },
    {
      "cell_type": "markdown",
      "metadata": {
        "id": "PpXtNIFxkms2"
      },
      "source": [
        "Just to verify everything is correctly set up:"
      ]
    },
    {
      "cell_type": "code",
      "metadata": {
        "id": "ftH0svNxgUm4",
        "colab": {
          "base_uri": "https://localhost:8080/"
        },
        "outputId": "f099d87e-5d8f-4f4d-b091-b38497a86a71"
      },
      "source": [
        "! python object_detection/builders/model_builder_test.py"
      ],
      "execution_count": null,
      "outputs": []
    },
    {
      "cell_type": "markdown",
      "metadata": {
        "id": "yHz2ulSNP6CQ"
      },
      "source": [
        "## Prepare data"
      ]
    },
    {
      "cell_type": "code",
      "metadata": {
        "id": "_ViIC_s0P9rX",
        "colab": {
          "base_uri": "https://localhost:8080/"
        },
        "outputId": "6d94c867-25f8-4d93-8785-131ab0751462"
      },
      "source": [
        "# Install Kaggle API\n",
        "!pip install -q kaggle\n",
        "!pip install -q kaggle-cli"
      ],
      "execution_count": null,
      "outputs": []
    },
    {
      "cell_type": "code",
      "metadata": {
        "id": "eoxGkHPUP-kW"
      },
      "source": [
        "# only for google colab\n",
        "import os\n",
        "os.environ['KAGGLE_USERNAME'] = \"<username>\" \n",
        "os.environ['KAGGLE_KEY'] = \"<key>\""
      ],
      "execution_count": null,
      "outputs": []
    },
    {
      "cell_type": "code",
      "metadata": {
        "id": "xXOPVaWAQAqp",
        "colab": {
          "base_uri": "https://localhost:8080/"
        },
        "outputId": "3e43f895-c38b-43f7-ae3d-f7fe6207b1d8"
      },
      "source": [
        "!kaggle datasets download -d tannergi/microcontroller-detection --unzip"
      ],
      "execution_count": null,
      "outputs": []
    },
    {
      "cell_type": "code",
      "metadata": {
        "id": "5g8HQLitQBsX"
      },
      "source": [
        "!mv \"Microcontroller Detection\" microcontroller-detection"
      ],
      "execution_count": null,
      "outputs": []
    },
    {
      "cell_type": "code",
      "metadata": {
        "id": "8RN7KJggQDB-",
        "colab": {
          "base_uri": "https://localhost:8080/"
        },
        "outputId": "a2b019a9-9dd2-41e6-aab6-1f364feb1539"
      },
      "source": [
        "!wget https://raw.githubusercontent.com/TannerGilbert/Tensorflow-Object-Detection-API-Train-Model/master/generate_tfrecord.py"
      ],
      "execution_count": null,
      "outputs": []
    },
    {
      "cell_type": "code",
      "metadata": {
        "id": "T-Tn5To9QENw",
        "colab": {
          "base_uri": "https://localhost:8080/"
        },
        "outputId": "11ab85ea-b1c5-462b-ac0e-ef8c6fefce90"
      },
      "source": [
        "!wget https://raw.githubusercontent.com/TannerGilbert/Tensorflow-Object-Detection-API-Train-Model/master/training/labelmap.pbtxt"
      ],
      "execution_count": null,
      "outputs": []
    },
    {
      "cell_type": "code",
      "metadata": {
        "id": "WwdPv-vTQFRV",
        "colab": {
          "base_uri": "https://localhost:8080/"
        },
        "outputId": "a0cbb4f5-68af-4aff-b0de-b0e1d65ef532"
      },
      "source": [
        "!python generate_tfrecord.py --csv_input=microcontroller-detection/train_labels.csv --image_dir=microcontroller-detection/train --output_path=train.record\n",
        "!python generate_tfrecord.py --csv_input=microcontroller-detection/test_labels.csv --image_dir=microcontroller-detection/test --output_path=test.record"
      ],
      "execution_count": null,
      "outputs": []
    },
    {
      "cell_type": "code",
      "metadata": {
        "id": "JwNUg3JCTGjx"
      },
      "source": [
        "train_record_path = 'train.record'\n",
        "test_record_path = 'test.record'\n",
        "labelmap_path = 'labelmap.pbtxt'"
      ],
      "execution_count": null,
      "outputs": []
    },
    {
      "cell_type": "markdown",
      "metadata": {
        "id": "DK4BLoEpQ1_i"
      },
      "source": [
        "## Download model"
      ]
    },
    {
      "cell_type": "code",
      "metadata": {
        "id": "Im6YiA6TQ4ck",
        "colab": {
          "base_uri": "https://localhost:8080/"
        },
        "outputId": "67939c81-4b22-47a5-c0c1-ff17ac6a68b0"
      },
      "source": [
        "!wget http://download.tensorflow.org/models/tflite_11_05_08/mobilenet_v2_1.0_224_quant.tgz\n",
        "!tar -xf mobilenet_v2_1.0_224_quant.tgz"
      ],
      "execution_count": null,
      "outputs": []
    },
    {
      "cell_type": "markdown",
      "metadata": {
        "id": "W1jkJq8DR5OH"
      },
      "source": [
        "## Configuring training"
      ]
    },
    {
      "cell_type": "code",
      "metadata": {
        "id": "vmmOh0n3R2Xc",
        "colab": {
          "base_uri": "https://localhost:8080/"
        },
        "outputId": "8d397a44-9cbc-41a2-978b-b295d6e72020"
      },
      "source": [
        "!wget https://raw.githubusercontent.com/google-coral/tutorials/master/docker/object_detection/scripts/configs/pipeline_mobilenet_v2_ssd_retrain_whole_model.config"
      ],
      "execution_count": null,
      "outputs": []
    },
    {
      "cell_type": "code",
      "metadata": {
        "id": "DL5pB_poR8UJ"
      },
      "source": [
        "batch_size = 16\n",
        "num_steps = 3000\n",
        "num_eval_steps = 500"
      ],
      "execution_count": null,
      "outputs": []
    },
    {
      "cell_type": "code",
      "metadata": {
        "id": "w2uijmHtSbDE"
      },
      "source": [
        "fine_tune_checkpoint = 'mobilenet_v2_1.0_224_quant.ckpt'\n",
        "base_config_path = 'pipeline_mobilenet_v2_ssd_retrain_whole_model.config'"
      ],
      "execution_count": null,
      "outputs": []
    },
    {
      "cell_type": "code",
      "metadata": {
        "id": "9jQfiIoiS3JZ"
      },
      "source": [
        "# edit configuration file (from https://colab.research.google.com/drive/1sLqFKVV94wm-lglFq_0kGo2ciM0kecWD)\n",
        "\n",
        "import re\n",
        "\n",
        "with open(base_config_path) as f:\n",
        "    config = f.read()\n",
        "\n",
        "with open('model_config.config', 'w') as f:\n",
        "  \n",
        "  # Set labelmap path\n",
        "  config = re.sub('label_map_path: \".*?\"', \n",
        "             'label_map_path: \"{}\"'.format(labelmap_path), config)\n",
        "  \n",
        "  # Set fine_tune_checkpoint path\n",
        "  config = re.sub('fine_tune_checkpoint: \".*?\"',\n",
        "                  'fine_tune_checkpoint: \"{}\"'.format(fine_tune_checkpoint), config)\n",
        "  \n",
        "  # Set train tf-record file path\n",
        "  config = re.sub('(input_path: \".*?)(DATASET_DIR_TO_CONFIGURE/pet_faces_train.record-\\?\\?\\?\\?\\?-of-00010)(.*?\")', \n",
        "                  'input_path: \"{}\"'.format(train_record_path), config)\n",
        "  \n",
        "  # Set test tf-record file path\n",
        "  config = re.sub('(input_path: \".*?)(DATASET_DIR_TO_CONFIGURE/pet_faces_val.record-\\?\\?\\?\\?\\?-of-00010)(.*?\")', \n",
        "                  'input_path: \"{}\"'.format(test_record_path), config)\n",
        "  \n",
        "  # Set number of classes.\n",
        "  config = re.sub('num_classes: [0-9]+',\n",
        "                  'num_classes: {}'.format(4), config)\n",
        "  \n",
        "  # Set batch size\n",
        "  config = re.sub('batch_size: [0-9]+',\n",
        "                  'batch_size: {}'.format(batch_size), config)\n",
        "  \n",
        "  # Set training steps\n",
        "  config = re.sub('num_steps: [0-9]+',\n",
        "                  'num_steps: {}'.format(num_steps), config)\n",
        "  \n",
        "  # Set fine-tune checkpoint type to detection\n",
        "  config = re.sub('fine_tune_checkpoint_type: \"classification\"', \n",
        "             'fine_tune_checkpoint_type: \"{}\"'.format('detection'), config)\n",
        "  \n",
        "  f.write(config)"
      ],
      "execution_count": null,
      "outputs": []
    },
    {
      "cell_type": "code",
      "metadata": {
        "id": "pXSF2aO5TAl_",
        "colab": {
          "base_uri": "https://localhost:8080/"
        },
        "outputId": "9d4fcdad-c417-426c-8d27-ef35bdd6f366"
      },
      "source": [
        "%cat model_config.config"
      ],
      "execution_count": null,
      "outputs": []
    },
    {
      "cell_type": "code",
      "metadata": {
        "id": "HWrTC_bRTcy5"
      },
      "source": [
        "model_dir = 'training/'\n",
        "pipeline_config_path = 'model_config.config'"
      ],
      "execution_count": null,
      "outputs": []
    },
    {
      "cell_type": "markdown",
      "metadata": {
        "id": "kg3oMLs1rus7"
      },
      "source": [
        "## Perform transfer-learning"
      ]
    },
    {
      "cell_type": "markdown",
      "metadata": {
        "id": "M2FIkwyhW8IX"
      },
      "source": [
        "The following script takes several hours to finish in Colab. (You can shorten by reducing the steps, but that reduces the final accuracy.)\n",
        "\n",
        "If you didn't already select \"Run all\" then you should run all remaining cells now. That will ensure the rest of the notebook completes while you are away, avoiding the chance that the Colab runtime times-out and you lose the training data before you download the model."
      ]
    },
    {
      "cell_type": "code",
      "metadata": {
        "id": "8NkqCq8g9A5M",
        "colab": {
          "base_uri": "https://localhost:8080/"
        },
        "outputId": "3e4dfd7e-0519-46a1-a3f9-09f12727772b"
      },
      "source": [
        "!python object_detection/model_main.py \\\n",
        "  --pipeline_config_path={pipeline_config_path} \\\n",
        "  --model_dir={model_dir} \\\n",
        "  --alsologtostderr"
      ],
      "execution_count": null,
      "outputs": []
    },
    {
      "cell_type": "markdown",
      "metadata": {
        "id": "Quv4hQWNhaAH"
      },
      "source": [
        "## Compile for the Edge TPU"
      ]
    },
    {
      "cell_type": "code",
      "metadata": {
        "id": "FaT98b09fCIV"
      },
      "source": [
        "output_directory = 'inference_graph'\n",
        "\n",
        "!python object_detection/export_tflite_ssd_graph.py \\\n",
        "  --pipeline_config_path {pipeline_config_path} \\\n",
        "  --trained_checkpoint_prefix {model_dir}model.ckpt-1000 \\\n",
        "  --output_directory {output_directory} \\\n",
        "  --add_postprocessing_op true"
      ],
      "execution_count": null,
      "outputs": []
    },
    {
      "cell_type": "code",
      "metadata": {
        "id": "w6mNsUucf1K1"
      },
      "source": [
        "!tflite_convert \\\n",
        "  --output_file {output_directory}/output_tflite_graph.tflite \\\n",
        "  --graph_def_file {output_directory}/tflite_graph.pb \\\n",
        "  --inference_type QUANTIZED_UINT8 \\\n",
        "  --input_arrays normalized_input_image_tensor \\\n",
        "  --output_arrays TFLite_Detection_PostProcess,TFLite_Detection_PostProcess:1,TFLite_Detection_PostProcess:2,TFLite_Detection_PostProcess:3 \\\n",
        "  --mean_values 128 \\\n",
        "  --std_dev_values 128 \\\n",
        "  --input_shapes 1,300,300,3 \\\n",
        "  --change_concat_input_ranges false \\\n",
        "  --allow_nudging_weights_to_use_fast_gemm_kernel true \\\n",
        "  --allow_custom_ops"
      ],
      "execution_count": null,
      "outputs": []
    },
    {
      "cell_type": "code",
      "metadata": {
        "id": "4-rs8V_BgVVJ"
      },
      "source": [
        "ls -lah {output_directory}"
      ],
      "execution_count": null,
      "outputs": []
    },
    {
      "cell_type": "code",
      "metadata": {
        "id": "6RxtslKJf2td"
      },
      "source": [
        "! curl https://packages.cloud.google.com/apt/doc/apt-key.gpg | sudo apt-key add -\n",
        "\n",
        "! echo \"deb https://packages.cloud.google.com/apt coral-edgetpu-stable main\" | sudo tee /etc/apt/sources.list.d/coral-edgetpu.list\n",
        "\n",
        "! sudo apt-get update\n",
        "\n",
        "! sudo apt-get install edgetpu-compiler\t"
      ],
      "execution_count": null,
      "outputs": []
    },
    {
      "cell_type": "code",
      "metadata": {
        "id": "TYUhhhMdkbrY"
      },
      "source": [
        "! edgetpu_compiler {output_directory}/output_tflite_graph.tflite -o {output_directory}"
      ],
      "execution_count": null,
      "outputs": []
    },
    {
      "cell_type": "code",
      "metadata": {
        "id": "KLG1Pz75ggjG"
      },
      "source": [
        "ls -lah {output_directory}"
      ],
      "execution_count": null,
      "outputs": []
    },
    {
      "cell_type": "markdown",
      "metadata": {
        "id": "NPt8RdopXsZv"
      },
      "source": [
        "Download the files:"
      ]
    },
    {
      "cell_type": "code",
      "metadata": {
        "id": "DtuE-CnPkdfI"
      },
      "source": [
        "from google.colab import files\n",
        "\n",
        "files.download(f'{output_directory}/output_tflite_graph_edgetpu.tflite')"
      ],
      "execution_count": null,
      "outputs": []
    },
    {
      "cell_type": "markdown",
      "metadata": {
        "id": "_qOCP3mXXvsm"
      },
      "source": [
        "If you get a \"Failed to fetch\" error here, it's probably because the files weren't done saving. So just wait a moment and try again.\n",
        "\n",
        "Also look out for a browser popup that might need approval to download the files."
      ]
    },
    {
      "cell_type": "markdown",
      "metadata": {
        "id": "_TZTwG7nhm0C"
      },
      "source": [
        "## Run the model on the Edge TPU\n",
        "\n",
        "\n"
      ]
    },
    {
      "cell_type": "markdown",
      "metadata": {
        "id": "RwywT4ZpQjLf"
      },
      "source": [
        "You can now run the model on your Coral device with acceleration on the Edge TPU.\n",
        "\n",
        "To get started, try using [this code for object detection with the TensorFlow Lite API](https://github.com/google-coral/tflite/tree/master/python/examples/detection). Just follow the instructions on that page to set up your device, copy the `output_tflite_graph_edgetpu.tflite` and `labels.txt` files to your Coral Dev Board or device with a Coral Accelerator, and pass it a photo to see the detected objects.\n",
        "\n",
        "Check out more examples for running inference at [coral.ai/examples](https://coral.ai/examples/#code-examples/)."
      ]
    },
    {
      "cell_type": "markdown",
      "metadata": {
        "id": "p2tyWn83VOAF"
      },
      "source": [
        "## Implementation details\n"
      ]
    },
    {
      "cell_type": "markdown",
      "metadata": {
        "id": "x5tKMtKVVDps"
      },
      "source": [
        "\n",
        "All the scripts used in this notebook come from the following locations:<br>\n",
        "+  https://github.com/google-coral/tutorials/tree/master/docker/object_detection/scripts\n",
        "+  https://github.com/tensorflow/models/tree/r1.13.0/research/object_detection/\n",
        "\n",
        "More explanation of the steps in this tutorial is available at\n",
        "https://coral.ai/docs/edgetpu/retrain-detection/."
      ]
    }
  ]
}